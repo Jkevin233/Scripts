{
 "cells": [
  {
   "cell_type": "code",
   "execution_count": 50,
   "id": "f13ef1b6",
   "metadata": {
    "scrolled": true
   },
   "outputs": [
    {
     "ename": "AttributeError",
     "evalue": "'Event' object has no attribute 'KeyID'",
     "output_type": "error",
     "traceback": [
      "\u001b[1;31m---------------------------------------------------------------------------\u001b[0m",
      "\u001b[1;31mAttributeError\u001b[0m                            Traceback (most recent call last)",
      "Input \u001b[1;32mIn [50]\u001b[0m, in \u001b[0;36m<cell line: 53>\u001b[1;34m()\u001b[0m\n\u001b[0;32m     49\u001b[0m     time\u001b[38;5;241m.\u001b[39msleep(\u001b[38;5;241m2\u001b[39m)\n\u001b[0;32m     50\u001b[0m     \u001b[38;5;28;01mreturn\u001b[39;00m \u001b[38;5;241m0\u001b[39m\n\u001b[1;32m---> 53\u001b[0m \u001b[43mmain\u001b[49m\u001b[43m(\u001b[49m\u001b[43m)\u001b[49m\n\u001b[0;32m     54\u001b[0m main()\n",
      "Input \u001b[1;32mIn [50]\u001b[0m, in \u001b[0;36mmain\u001b[1;34m()\u001b[0m\n\u001b[0;32m     13\u001b[0m \u001b[38;5;28;01mdef\u001b[39;00m \u001b[38;5;21mmain\u001b[39m():\n\u001b[1;32m---> 14\u001b[0m     \u001b[38;5;28;01mif\u001b[39;00m \u001b[43mevent\u001b[49m\u001b[38;5;241;43m.\u001b[39;49m\u001b[43mKeyID\u001b[49m \u001b[38;5;241m==\u001b[39m \u001b[38;5;241m9\u001b[39m:\n\u001b[0;32m     15\u001b[0m         sys\u001b[38;5;241m.\u001b[39mexit()\n\u001b[0;32m     16\u001b[0m     \u001b[38;5;28;01melse\u001b[39;00m:\n",
      "\u001b[1;31mAttributeError\u001b[0m: 'Event' object has no attribute 'KeyID'"
     ]
    }
   ],
   "source": [
    "import pyautogui as auto\n",
    "import time\n",
    "import sys\n",
    "#import win32api\n",
    "#import pyWinhook\n",
    "# from threading import Event\n",
    "\n",
    "# event = Event()\n",
    "\n",
    "auto.alert('start')\n",
    "\n",
    "def main():\n",
    "    #if event.KeyID == 9:\n",
    "        #sys.exit()\n",
    "    #else:\n",
    "    prepare();\n",
    "    kurou();\n",
    "    result();\n",
    "    return 0\n",
    "    \n",
    "\n",
    "def prepare():\n",
    "    auto.click(1598,714)#添加\n",
    "    auto.click(863,712)#小沙\n",
    "    auto.click(1148,949)#点将\n",
    "    time.sleep(1)\n",
    "    auto.click(1779,882)#开始\n",
    "    time.sleep(3)\n",
    "    auto.click(326,683)#盖子\n",
    "    time.sleep(3)\n",
    "    return 0\n",
    "\n",
    "def kurou():\n",
    "    while True:\n",
    "            auto.click(1777,1043)\n",
    "            # time.sleep(0.1)\n",
    "            auto.click(947,818)\n",
    "            cancel = auto.locateCenterOnScreen('cancel.png')\n",
    "            if cancel:\n",
    "                break;\n",
    "    time.sleep(5)\n",
    "    \n",
    "    return 0\n",
    "\n",
    "\n",
    "def result():\n",
    "    auto.doubleClick(970,1020)\n",
    "    time.sleep(2)\n",
    "    return 0\n",
    "\n",
    "if __name__ == \"__main__\":\n",
    "    main()"
   ]
  },
  {
   "cell_type": "code",
   "execution_count": 34,
   "id": "3ee18e1d",
   "metadata": {},
   "outputs": [
    {
     "name": "stdout",
     "output_type": "stream",
     "text": [
      "1363 784\n"
     ]
    },
    {
     "data": {
      "text/plain": [
       "'OK'"
      ]
     },
     "execution_count": 34,
     "metadata": {},
     "output_type": "execute_result"
    }
   ],
   "source": [
    "#! python3\n",
    "import pyautogui, sys\n",
    "import time\n",
    "time.sleep(5)\n",
    "pyautogui.alert(\"start\")\n",
    "\n",
    "x, y = pyautogui.position()\n",
    "print(x,y)\n",
    "pyautogui.alert(\"ok\")"
   ]
  },
  {
   "cell_type": "code",
   "execution_count": 55,
   "id": "4747f241",
   "metadata": {},
   "outputs": [
    {
     "ename": "AttributeError",
     "evalue": "'Event' object has no attribute 'KeyID'",
     "output_type": "error",
     "traceback": [
      "\u001b[1;31m---------------------------------------------------------------------------\u001b[0m",
      "\u001b[1;31mAttributeError\u001b[0m                            Traceback (most recent call last)",
      "Input \u001b[1;32mIn [55]\u001b[0m, in \u001b[0;36m<cell line: 2>\u001b[1;34m()\u001b[0m\n\u001b[0;32m      1\u001b[0m \u001b[38;5;28;01mimport\u001b[39;00m \u001b[38;5;21;01mpyWinhook\u001b[39;00m\n\u001b[1;32m----> 2\u001b[0m \u001b[43mevent\u001b[49m\u001b[38;5;241;43m.\u001b[39;49m\u001b[43mKeyID\u001b[49m\n",
      "\u001b[1;31mAttributeError\u001b[0m: 'Event' object has no attribute 'KeyID'"
     ]
    }
   ],
   "source": [
    "import pyWinhook\n",
    "event.KeyID"
   ]
  }
 ],
 "metadata": {
  "kernelspec": {
   "display_name": "Python 3 (ipykernel)",
   "language": "python",
   "name": "python3"
  },
  "language_info": {
   "codemirror_mode": {
    "name": "ipython",
    "version": 3
   },
   "file_extension": ".py",
   "mimetype": "text/x-python",
   "name": "python",
   "nbconvert_exporter": "python",
   "pygments_lexer": "ipython3",
   "version": "3.9.12"
  }
 },
 "nbformat": 4,
 "nbformat_minor": 5
}
