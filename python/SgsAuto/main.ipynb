{
 "cells": [
  {
   "cell_type": "code",
   "execution_count": null,
   "id": "6580b581",
   "metadata": {
    "scrolled": true
   },
   "outputs": [],
   "source": [
    "import pyautogui as auto\n",
    "import time\n",
    "import sys\n",
    "#import win32api\n",
    "#import pyWinhook\n",
    "# from threading import Event\n",
    "\n",
    "# event = Event()\n",
    "\n",
    "auto.alert('start')\n",
    "\n",
    "def main():\n",
    "    #if event.KeyID == 9:\n",
    "        #sys.exit()\n",
    "    #else:\n",
    "    prepare();\n",
    "    kurou();\n",
    "    result();\n",
    "    return 0\n",
    "    \n",
    "\n",
    "def prepare():\n",
    "    auto.click(1598,714)#添加\n",
    "    auto.click(863,712)#小沙\n",
    "    auto.click(1148,949)#点将\n",
    "    time.sleep(1)\n",
    "    auto.click(1779,882)#开始\n",
    "    time.sleep(3)\n",
    "    auto.click(326,683)#盖子\n",
    "    time.sleep(3)\n",
    "    return 0\n",
    "\n",
    "def kurou():\n",
    "    while True:\n",
    "            auto.click(1777,1043)\n",
    "            # time.sleep(0.1)\n",
    "            auto.click(947,818)\n",
    "            cancel = auto.locateCenterOnScreen('cancel.png')\n",
    "            if cancel:\n",
    "                break;\n",
    "    time.sleep(5)\n",
    "    \n",
    "    return 0\n",
    "\n",
    "\n",
    "def result():\n",
    "    auto.doubleClick(970,1020)\n",
    "    time.sleep(2)\n",
    "    return 0\n",
    "\n",
    "if __name__ == \"__main__\":\n",
    "    main()"
   ]
  },
  {
   "cell_type": "code",
   "execution_count": null,
   "id": "de59d121",
   "metadata": {},
   "outputs": [],
   "source": [
    "#! python3\n",
    "import pyautogui, sys\n",
    "import time\n",
    "time.sleep(5)\n",
    "pyautogui.alert(\"start\")\n",
    "\n",
    "x, y = pyautogui.position()\n",
    "print(x,y)\n",
    "pyautogui.alert(\"ok\")"
   ]
  }
 ],
 "metadata": {
  "kernelspec": {
   "display_name": "Python 3 (ipykernel)",
   "language": "python",
   "name": "python3"
  },
  "language_info": {
   "codemirror_mode": {
    "name": "ipython",
    "version": 3
   },
   "file_extension": ".py",
   "mimetype": "text/x-python",
   "name": "python",
   "nbconvert_exporter": "python",
   "pygments_lexer": "ipython3",
   "version": "3.9.12"
  }
 },
 "nbformat": 4,
 "nbformat_minor": 5
}
