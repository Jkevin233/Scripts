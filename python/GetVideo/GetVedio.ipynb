{
 "cells": [
  {
   "cell_type": "code",
   "execution_count": 1,
   "id": "31988a5b",
   "metadata": {},
   "outputs": [
    {
     "name": "stdout",
     "output_type": "stream",
     "text": [
      "done...\n"
     ]
    },
    {
     "data": {
      "text/plain": [
       "0"
      ]
     },
     "execution_count": 1,
     "metadata": {},
     "output_type": "execute_result"
    }
   ],
   "source": [
    "import re\n",
    "import os\n",
    "import json\n",
    "import requests\n",
    "\n",
    "# info\n",
    "url = 'https://www.bilibili.com/video/BV18i4y1r7wA'\n",
    "headers = {\n",
    "    \"User-Agent\": \"Mozilla/5.0 (Windows NT 10.0; Win64; x64; rv:109.0) Gecko/20100101 Firefox/110.0\",\n",
    "    \"referer\": url\n",
    "}\n",
    "\n",
    "# Get au/vd url\n",
    "def GetUrl(url, headers):\n",
    "    html = requests.get(url=url, headers=headers).content.decode('utf-8')\n",
    "    json_data = re.findall('<script>window\\.__playinfo__=(.*?)</script>', html)[0]\n",
    "    # print(type(json))\n",
    "    json_data = json.loads(json_data)\n",
    "    audio_url = json_data['data']['dash']['audio'][0]['baseUrl']\n",
    "    video_url = json_data['data']['dash']['video'][0]['baseUrl']\n",
    "    data = [audio_url, video_url]\n",
    "    \n",
    "    return data\n",
    "\n",
    "# download\n",
    "def GetFiles(audio_url,video_url,headers):\n",
    "    audio = requests.get(audio_url,headers).content\n",
    "    video = requests.get(video_url,headers).content\n",
    "    filename = 'name'\n",
    "    with open(filename + '.mp3', mode='wb') as f:\n",
    "        f.write(audio)\n",
    "    with open(filename + '.mp4', mode='wb') as f:\n",
    "        f.write(video)\n",
    "        \n",
    "    print('done...')\n",
    "    return 0\n",
    "\n",
    "data = GetUrl(url,headers)\n",
    "GetFiles(data[0], data[1], headers)"
   ]
  }
 ],
 "metadata": {
  "kernelspec": {
   "display_name": "Python 3 (ipykernel)",
   "language": "python",
   "name": "python3"
  },
  "language_info": {
   "codemirror_mode": {
    "name": "ipython",
    "version": 3
   },
   "file_extension": ".py",
   "mimetype": "text/x-python",
   "name": "python",
   "nbconvert_exporter": "python",
   "pygments_lexer": "ipython3",
   "version": "3.11.2"
  }
 },
 "nbformat": 4,
 "nbformat_minor": 5
}
